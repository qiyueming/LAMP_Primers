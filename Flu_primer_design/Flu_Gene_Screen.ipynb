{
 "cells": [
  {
   "cell_type": "code",
   "execution_count": 7,
   "metadata": {},
   "outputs": [],
   "source": [
    "import sys\n",
    "sys.path.append('../')\n",
    "from primer_design.align_sequence import lines_to_dict,read,AlignmentF\n",
    "import matplotlib.pyplot as plt\n",
    "import re\n",
    "import numpy as np\n",
    "from collections import Counter,namedtuple\n",
    "import xml.etree.ElementTree as ET"
   ]
  },
  {
   "cell_type": "code",
   "execution_count": 2,
   "metadata": {},
   "outputs": [],
   "source": [
    "#path to input file.\n",
    "inputFile = ''"
   ]
  },
  {
   "cell_type": "code",
   "execution_count": 13,
   "metadata": {},
   "outputs": [],
   "source": [
    "record = "
   ]
  },
  {
   "cell_type": "code",
   "execution_count": 12,
   "metadata": {},
   "outputs": [
    {
     "data": {
      "text/plain": [
       "Record(accession='af', sequence='atcg', year='2016', strain='H1N1')"
      ]
     },
     "execution_count": 12,
     "metadata": {},
     "output_type": "execute_result"
    }
   ],
   "source": [
    "record('af','atcg','2016','H1N1')"
   ]
  },
  {
   "cell_type": "code",
   "execution_count": 50,
   "metadata": {},
   "outputs": [],
   "source": [
    "from dateutil.parser import parse"
   ]
  },
  {
   "cell_type": "code",
   "execution_count": 53,
   "metadata": {},
   "outputs": [
    {
     "data": {
      "text/plain": [
       "True"
      ]
     },
     "execution_count": 53,
     "metadata": {},
     "output_type": "execute_result"
    }
   ],
   "source": [
    "parse('1995').year == 1995"
   ]
  },
  {
   "cell_type": "code",
   "execution_count": null,
   "metadata": {},
   "outputs": [],
   "source": []
  },
  {
   "cell_type": "code",
   "execution_count": 43,
   "metadata": {},
   "outputs": [],
   "source": [
    "result = parse_accession_xml('/home/hui/Downloads/FluA_M_N.A._HxNx_accession.xml')"
   ]
  },
  {
   "cell_type": "code",
   "execution_count": 44,
   "metadata": {},
   "outputs": [
    {
     "data": {
      "text/plain": [
       "{'accession': 'CQ840446',\n",
       " 'length': '987',\n",
       " 'host': 'Human',\n",
       " 'segment': '7 (MP)',\n",
       " 'serotype': 'H1N1',\n",
       " 'country': 'USA',\n",
       " 'region': 'N',\n",
       " 'date': '1995',\n",
       " 'name': 'Influenza A virus',\n",
       " 'mutations': None,\n",
       " 'vac_strain': None,\n",
       " 'fulllength_plus': 'c'}"
      ]
     },
     "execution_count": 44,
     "metadata": {},
     "output_type": "execute_result"
    }
   ],
   "source": [
    "result['CQ840446']"
   ]
  },
  {
   "cell_type": "code",
   "execution_count": null,
   "metadata": {},
   "outputs": [],
   "source": [
    ">MT167220 A/Arizona/02/2020 2020/01/09 7 (MP)"
   ]
  },
  {
   "cell_type": "code",
   "execution_count": 3,
   "metadata": {},
   "outputs": [],
   "source": [
    "class Record(namedtuple('Record',['accession','sequence','year','serotype'])):\n",
    "    def __init__(self,accession,seq,year,strain):\n",
    "        super().__init__(accession,seq.upper(),year,strain)\n",
    "    \n",
    "class FluRecords:\n",
    "    def __init__(self,fastaFile,accessionFile):\n",
    "        \n",
    "        fasta = lines_to_dict(read(file))\n",
    "        year_ptn = re.compile(r'((19|20)\\d\\d)/\\d{0,2}/\\d{0,2}')\n",
    "        self.years = {} \n",
    "        for i in self.seqs:\n",
    "            match = year_ptn.search(i)\n",
    "            if match:\n",
    "                year = int(match.groups()[0])\n",
    "                self.years[i] = year\n",
    "                if year<1920 or year>2020:\n",
    "                    print(i)\n",
    "            else:\n",
    "                self.years[i] = None\n",
    "    def parse_accession_xml(self,file):\n",
    "        tree = ET.parse(file)\n",
    "        root = tree.getroot()\n",
    "        result = {}\n",
    "        for item in root:\n",
    "            entry = {}\n",
    "            for data in item:\n",
    "                entry[data.tag] = data.text\n",
    "            result[entry['accession']] = entry\n",
    "        return result\n",
    "                \n",
    "    def align(self):\n",
    "        self.aln = AlignmentF(sequence=list(self.seqs.values()))\n",
    "                \n",
    "    def plot_year(self):\n",
    "        year_counter = list(Counter([i for i in self.years.values() if i]).items())\n",
    "        year_counter.sort()\n",
    "        labels = [i[0] for i in year_counter]\n",
    "        year_height =  [i[1] for i in year_counter]\n",
    "        x_position = list(range(len(labels)))\n",
    "\n",
    "        fig,ax = plt.subplots()\n",
    "        ax.bar(x_position,year_height,)\n",
    "        ax.set_xticks(x_position[::10])\n",
    "        ax.set_xticklabels(labels[::10], )\n",
    "        ax.set_title('Count in years')\n",
    "        plt.show()\n",
    "        return fig\n",
    "    \n",
    "    def fast_after_year(self,year):\n",
    "        return {i:seq for i,seq in self.seqs.items() if self.years[i] and self.years[i]>=year}\n",
    "    \n",
    "    def write_fasta(self,year,filename):\n",
    "        fasta = self.fast_after_year(year)\n",
    "        with open(filename,'wt') as f:\n",
    "            for name, seq in fasta.items():\n",
    "                f.write(name+'\\n')\n",
    "                f.write(seq+'\\n')\n",
    "    def plot_logo(self,ax):\n",
    "        return self.aln.dna_logo(save=False,show=False,ax=ax)\n",
    "    \n",
    "    def plot_info(self,ax):\n",
    "        req = np.array(self.aln._freq())\n",
    "        en = 2.88539008/max(sum(self.aln.count),1.5)\n",
    "        info = (np.log(5)/np.log(2)-en-self.aln.entropy())\n",
    "        return ax.plot(info)"
   ]
  },
  {
   "cell_type": "code",
   "execution_count": 4,
   "metadata": {},
   "outputs": [],
   "source": [
    "files=\"\"\"/home/hui/AptitudeUsers/R&D/Users/Hui Kang/flu/FluA_genes/FluA_HA_N.A._HxNx.fa\n",
    "/home/hui/AptitudeUsers/R&D/Users/Hui Kang/flu/FluA_genes/FluA_NA_N.A._HxNx.fa\n",
    "/home/hui/AptitudeUsers/R&D/Users/Hui Kang/flu/FluA_genes/FluA_NP_N.A._HxNx.fa\n",
    "/home/hui/AptitudeUsers/R&D/Users/Hui Kang/flu/FluA_genes/FluA_NS_N.A._HxNx.fa\n",
    "/home/hui/AptitudeUsers/R&D/Users/Hui Kang/flu/FluA_genes/FluA_PA_N.A._HxNx.fa\n",
    "/home/hui/AptitudeUsers/R&D/Users/Hui Kang/flu/FluA_genes/FluA_PB1_NA_HxNx.fa\n",
    "/home/hui/AptitudeUsers/R&D/Users/Hui Kang/flu/FluA_genes/FluA_PB2_NA_HxNx.fa\n",
    "/home/hui/AptitudeUsers/R&D/Users/Hui Kang/flu/FluA_genes/InfluenzaA_M1_M2.fa\"\"\".split('\\n')"
   ]
  },
  {
   "cell_type": "code",
   "execution_count": null,
   "metadata": {},
   "outputs": [],
   "source": [
    "#load fasta then plot year then cut after 'postYear'\n",
    "postYear = 2015\n",
    "genename = 'PB2'\n",
    "fasta = FastA(files[6])\n",
    "\n",
    "fig = fasta.plot_year()\n",
    "# fig.savefig(f'./fluA_genes/fluA_{genename}_in_years.png')\n",
    "fasta.write_fasta(postYear,f'./fluA_genes/fluA_{genename}_N.A._HxNx_{postYear}.fasta')"
   ]
  },
  {
   "cell_type": "code",
   "execution_count": null,
   "metadata": {},
   "outputs": [],
   "source": []
  },
  {
   "cell_type": "code",
   "execution_count": null,
   "metadata": {},
   "outputs": [],
   "source": [
    "# draw align from alignment sequences.\n",
    "for gene in ['PB1','PB2']:\n",
    "    alignFasta = FastA(f\"./fluA_genes/fluA_{gene}_N.A._HxNx_2015_aln.fasta\")\n",
    "    alignFasta.align()\n",
    "    # plot the aligned sequences\n",
    "    fig,ax = plt.subplots(2,figsize=(int((len(alignFasta.aln))*0.2),6))\n",
    "    alignFasta.plot_info(ax[0])\n",
    "    ax[0].set_title(f'{gene}_post_2015 align.png')\n",
    "    ax[0].set_xlabel('nucleotide position')\n",
    "    alignFasta.plot_logo(ax[1])\n",
    "    ax[1].set_title(f'{gene}_post_2015 Logo.png')\n",
    "    ax[1].set_xlabel('nucleotide position')\n",
    "    fig.set_tight_layout(True)\n",
    "    fig.savefig(f'./fluA_genes/{gene}_post_2015 align.svg')\n"
   ]
  },
  {
   "cell_type": "code",
   "execution_count": 5,
   "metadata": {},
   "outputs": [
    {
     "name": "stdout",
     "output_type": "stream",
     "text": [
      ">AY130766 A/Brevig Mission/1/1918 1918// 7 (MP)\n"
     ]
    }
   ],
   "source": [
    "fluAM = FastA(files[-1])"
   ]
  },
  {
   "cell_type": "code",
   "execution_count": null,
   "metadata": {},
   "outputs": [],
   "source": [
    "fluAM.seqs.keys()"
   ]
  },
  {
   "cell_type": "code",
   "execution_count": 21,
   "metadata": {},
   "outputs": [
    {
     "name": "stdout",
     "output_type": "stream",
     "text": [
      ">MT167220 A/Arizona/02/2020 2020/01/09 7 (MP)\n",
      "2020\n"
     ]
    }
   ],
   "source": [
    "for k in fluAM.seqs.keys():\n",
    "    if 'MT167220' in k:\n",
    "        print(k)\n",
    "        print(fluAM.years[k])"
   ]
  },
  {
   "cell_type": "code",
   "execution_count": 70,
   "metadata": {},
   "outputs": [],
   "source": [
    "class T(dict):\n",
    "    def __getattr__(self,key):\n",
    "        return self[key]\n",
    "    def __setattr__(self,key,value):\n",
    "        self[key] = value"
   ]
  },
  {
   "cell_type": "code",
   "execution_count": null,
   "metadata": {},
   "outputs": [],
   "source": []
  }
 ],
 "metadata": {
  "kernelspec": {
   "display_name": "Python 3",
   "language": "python",
   "name": "python3"
  },
  "language_info": {
   "codemirror_mode": {
    "name": "ipython",
    "version": 3
   },
   "file_extension": ".py",
   "mimetype": "text/x-python",
   "name": "python",
   "nbconvert_exporter": "python",
   "pygments_lexer": "ipython3",
   "version": "3.7.4"
  }
 },
 "nbformat": 4,
 "nbformat_minor": 2
}
