{
 "cells": [
  {
   "cell_type": "code",
   "execution_count": 1,
   "metadata": {},
   "outputs": [],
   "source": [
    "import sys\n",
    "sys.path.append('../')\n",
    "from primer_design.align_sequence import lines_to_dict,read\n",
    "import matplotlib.pyplot as plt\n",
    "import re\n",
    "from collections import Counter"
   ]
  },
  {
   "cell_type": "code",
   "execution_count": 2,
   "metadata": {},
   "outputs": [],
   "source": [
    "# load M gene fast files\n",
    "fluB = '/home/hui/AptitudeUsers/R&D/Users/Hui Kang/flu/InfB_output.fast'\n",
    "fluA = '/home/hui/AptitudeUsers/R&D/Users/Hui Kang/flu/FluA_genes/InfluenzaA_M1_M2.fa'\n"
   ]
  },
  {
   "cell_type": "code",
   "execution_count": 3,
   "metadata": {},
   "outputs": [],
   "source": [
    "# read Influenza A strains and sequences to dictionary\n",
    "fastA = lines_to_dict(read(fluA))\n",
    "fluA_genes =  list(fastA.keys())"
   ]
  },
  {
   "cell_type": "code",
   "execution_count": 14,
   "metadata": {},
   "outputs": [],
   "source": [
    "count = 0\n",
    "for k,seq in fastA.items():\n",
    "    if 'AGTGAGCGAGGACTG' in seq:\n",
    "        count +=1"
   ]
  },
  {
   "cell_type": "code",
   "execution_count": 15,
   "metadata": {},
   "outputs": [
    {
     "data": {
      "text/plain": [
       "41735"
      ]
     },
     "execution_count": 15,
     "metadata": {},
     "output_type": "execute_result"
    }
   ],
   "source": [
    "count"
   ]
  },
  {
   "cell_type": "code",
   "execution_count": 16,
   "metadata": {},
   "outputs": [
    {
     "data": {
      "text/plain": [
       "43097"
      ]
     },
     "execution_count": 16,
     "metadata": {},
     "output_type": "execute_result"
    }
   ],
   "source": [
    "len(fastA)"
   ]
  },
  {
   "cell_type": "code",
   "execution_count": 17,
   "metadata": {},
   "outputs": [
    {
     "data": {
      "text/plain": [
       "'agtgagcgaggactg'"
      ]
     },
     "execution_count": 17,
     "metadata": {},
     "output_type": "execute_result"
    }
   ],
   "source": [
    "'AGTGAGCGAGGACTG'.lower()"
   ]
  },
  {
   "cell_type": "code",
   "execution_count": 4,
   "metadata": {},
   "outputs": [
    {
     "name": "stdout",
     "output_type": "stream",
     "text": [
      ">AY130766 A/Brevig Mission/1/1918 1918// 7 (MP)\n",
      ">CY146802 A/Texas/JY2/unknown unknown// 7 (MP)\n",
      ">CY146818 A/PAL/unknown unknown// 7 (MP)\n",
      ">CY147313 A/Mayo/unknown unknown// 7 (MP)\n",
      ">CY147391 A/Georgia/JY2/unknown unknown// 7 (MP)\n"
     ]
    }
   ],
   "source": [
    "# fetch all years from the strains.\n",
    "year_ptn = re.compile(r'((19|20)\\d\\d)/\\d{0,2}/\\d{0,2}')\n",
    "\n",
    "fluA_years = []\n",
    "for i in fluA_genes:\n",
    "    match = year_ptn.search(i)\n",
    "    if match:\n",
    "        year = int(match.groups()[0])\n",
    "        fluA_years.append(year)\n",
    "        if year<1920:print(i)\n",
    "    else:\n",
    "        print(i)"
   ]
  },
  {
   "cell_type": "code",
   "execution_count": 8,
   "metadata": {},
   "outputs": [
    {
     "data": {
      "image/png": "[encoded data removed]",
      "text/plain": [
       "<Figure size 432x288 with 1 Axes>"
      ]
     },
     "metadata": {
      "needs_background": "light"
     },
     "output_type": "display_data"
    }
   ],
   "source": [
    "# plot which years are these sequences from.\n",
    "year_counter = list(Counter(fluA_years).items())\n",
    "year_counter.sort()\n",
    "year_counter\n",
    "\n",
    "labels = [i[0] for i in year_counter]\n",
    "year_height =  [i[1] for i in year_counter]\n",
    "x_position = list(range(len(labels)))\n",
    "\n",
    "fig,ax = plt.subplots()\n",
    "ax.bar(x_position,year_height,)\n",
    "ax.set_xticks(x_position[::10])\n",
    "ax.set_xticklabels(labels[::10], )\n",
    "ax.set_title('Count in years')\n",
    "plt.show()"
   ]
  },
  {
   "cell_type": "code",
   "execution_count": 10,
   "metadata": {},
   "outputs": [
    {
     "name": "stdout",
     "output_type": "stream",
     "text": [
      "Total FastA items 43097\n",
      "Unique sequences after 2009: 12241\n"
     ]
    }
   ],
   "source": [
    "# make a new FastA file of flu A M gene that only contain sequences after year 2009.\n",
    "sequences = []\n",
    "uniques={}\n",
    "for name,seq in fastA.items():\n",
    "    match = year_ptn.search(name)\n",
    "    if match:\n",
    "        year = int(match.groups()[0])\n",
    "        if year>=2009:\n",
    "            if seq not in sequences:\n",
    "                sequences.append(seq)\n",
    "                uniques[name]=seq\n",
    "\n",
    "print(f'Total FastA items {len(fastA.keys())}')                \n",
    "print(f\"Unique sequences after 2009: {len(sequences)}\")"
   ]
  },
  {
   "cell_type": "code",
   "execution_count": 12,
   "metadata": {},
   "outputs": [],
   "source": [
    "#write to fastA file.\n",
    "with open('fluA_post2009_unique.fasta','wt') as f:\n",
    "    for name, seq in uniques.items():\n",
    "        f.write(name+'\\n')\n",
    "        f.write(seq+'\\n')"
   ]
  },
  {
   "cell_type": "code",
   "execution_count": 1,
   "metadata": {},
   "outputs": [],
   "source": [
    "data = open('/home/hui/AptitudeUsers/R&D/Users/Hui Kang/flu/FluA_genes/InfluenzaA_M1_M2.fa').read()"
   ]
  },
  {
   "cell_type": "code",
   "execution_count": 2,
   "metadata": {},
   "outputs": [
    {
     "data": {
      "text/plain": [
       "'>'"
      ]
     },
     "execution_count": 2,
     "metadata": {},
     "output_type": "execute_result"
    }
   ],
   "source": [
    "fastAgenes"
   ]
  },
  {
   "cell_type": "code",
   "execution_count": 3,
   "metadata": {},
   "outputs": [
    {
     "data": {
      "text/plain": [
       "142"
      ]
     },
     "execution_count": 3,
     "metadata": {},
     "output_type": "execute_result"
    }
   ],
   "source": [
    "data.index('GACTTGAAGATGTCTTTGC')"
   ]
  },
  {
   "cell_type": "code",
   "execution_count": null,
   "metadata": {},
   "outputs": [],
   "source": []
  },
  {
   "cell_type": "code",
   "execution_count": null,
   "metadata": {},
   "outputs": [],
   "source": []
  },
  {
   "cell_type": "code",
   "execution_count": null,
   "metadata": {},
   "outputs": [],
   "source": []
  },
  {
   "cell_type": "code",
   "execution_count": null,
   "metadata": {},
   "outputs": [],
   "source": []
  }
 ],
 "metadata": {
  "kernelspec": {
   "display_name": "Python 3",
   "language": "python",
   "name": "python3"
  },
  "language_info": {
   "codemirror_mode": {
    "name": "ipython",
    "version": 3
   },
   "file_extension": ".py",
   "mimetype": "text/x-python",
   "name": "python",
   "nbconvert_exporter": "python",
   "pygments_lexer": "ipython3",
   "version": "3.7.4"
  }
 },
 "nbformat": 4,
 "nbformat_minor": 2
}
